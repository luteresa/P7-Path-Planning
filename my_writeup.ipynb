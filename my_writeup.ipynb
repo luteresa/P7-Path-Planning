{
 "cells": [
  {
   "cell_type": "markdown",
   "metadata": {},
   "source": [
    "# Highway Driving\n",
    "\n",
    "The Goal of this Project\n",
    "\n",
    "In this project, your goal is to design a path planner that is able to create smooth, safe paths for the car to follow along a 3 lane highway with traffic. A successful path planner will be able to keep inside its lane, avoid hitting other cars, and pass slower moving traffic all by using localization, sensor fusion, and map data."
   ]
  },
  {
   "cell_type": "markdown",
   "metadata": {},
   "source": [
    "## 本项目为无人车创建一条可以适合高速行驶的预测路径\n",
    "\n",
    "算法核心思路是，根据上一个路径剩余的最后两个坐标点，加上当前速度预测的远处30m/60m/90米取三个点，利用样条函数拟合出平滑的路径曲线；\n"
   ]
  },
  {
   "cell_type": "markdown",
   "metadata": {},
   "source": [
    "需要注意的问题如下：\n",
    "\n",
    "In order for the passenger to have an enjoyable ride both the jerk and the total acceleration should not exceed 10 m/s^2.\n",
    "\n",
    "But the more waypoints we use from the previous path, the less the new path will reflect dynamic changes in the environment.\n",
    "\n",
    "### 1.速度适中：\n",
    "\n",
    "取参考速度从0开始，避免启动抖动问题\n",
    "\n",
    "double ref_vel = 0.0; // mph\n",
    "\n",
    "当前车距离大于安全距离时，ref_vel缓慢加速，直至到达最大限速\n",
    "\n",
    "const double MAX_VEL = 49.5;；\n",
    "\n",
    "当前车距离小于安全距离时，ref_vel将减速，或者寻找可能变道；\n",
    "\n",
    "### 2.不能撞车：\n",
    "\n",
    "直行时，保持与前车安全距离，车距小于安全距离时，将减速；\n",
    "\n",
    "换道时，还需判断左右车道，后车的车距，必须具备安全车距；\n",
    "\n",
    "### 3.合理切换车道：\n",
    "\n",
    "当前车速度过慢，将寻找可能的变换车道，变换车道必须防止撞车；\n",
    "\n",
    "### 4.加速度变化尽量平滑：\n",
    "\n",
    "a.通过样条函数拟合出路径曲线;\n",
    "\n",
    "b.根据车速变化取样本点，保持尽量小的加速度变化；\n",
    "\n",
    "### 5.启动抖动问题\n",
    "\n",
    "a. 速度从0开始，缓慢加速;\n",
    "\n",
    "b. 所有样本点，沿汽车当前运行切线方向；\n"
   ]
  },
  {
   "cell_type": "markdown",
   "metadata": {},
   "source": [
    "## 项目运行效果如下图\n",
    "\n",
    "![avatar](./yak.png)"
   ]
  },
  {
   "cell_type": "markdown",
   "metadata": {},
   "source": [
    "## 问题：\n",
    "\n",
    "1.样条函数拟合曲线，假如加入代价函数，会不会取得更好Jerk值？\n"
   ]
  },
  {
   "cell_type": "code",
   "execution_count": null,
   "metadata": {},
   "outputs": [],
   "source": []
  }
 ],
 "metadata": {
  "kernelspec": {
   "display_name": "Python 3",
   "language": "python",
   "name": "python3"
  },
  "language_info": {
   "codemirror_mode": {
    "name": "ipython",
    "version": 3
   },
   "file_extension": ".py",
   "mimetype": "text/x-python",
   "name": "python",
   "nbconvert_exporter": "python",
   "pygments_lexer": "ipython3",
   "version": "3.7.3"
  }
 },
 "nbformat": 4,
 "nbformat_minor": 2
}
